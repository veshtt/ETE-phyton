{
  "nbformat": 4,
  "nbformat_minor": 0,
  "metadata": {
    "colab": {
      "provenance": [],
      "toc_visible": true
    },
    "kernelspec": {
      "name": "python3",
      "display_name": "Python 3"
    },
    "language_info": {
      "name": "python"
    }
  },
  "cells": [
    {
      "cell_type": "code",
      "execution_count": 6,
      "metadata": {
        "colab": {
          "base_uri": "https://localhost:8080/"
        },
        "id": "3iKUwCDcjGXY",
        "outputId": "d8959114-834a-4fa1-fdc9-e0ffb008345c"
      },
      "outputs": [
        {
          "output_type": "stream",
          "name": "stdout",
          "text": [
            "<class 'bool'>\n"
          ]
        }
      ],
      "source": [
        "''' ETE CÍCERO DIAS\n",
        "# DOCENTE: Antonio\n",
        "# ESTUDANTE: ?\n",
        "# print('Antonio')\n",
        "# tipos primitivos de dados '''\n",
        "\n",
        "a = False\n",
        "print(type(a))"
      ]
    },
    {
      "cell_type": "code",
      "source": [],
      "metadata": {
        "id": "GmE_r0ncj77I"
      },
      "execution_count": null,
      "outputs": []
    }
  ]
}