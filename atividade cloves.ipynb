{
  "nbformat": 4,
  "nbformat_minor": 0,
  "metadata": {
    "colab": {
      "provenance": [],
      "authorship_tag": "ABX9TyNDRGfoFVaovGodDhlrGnAT",
      "include_colab_link": true
    },
    "kernelspec": {
      "name": "python3",
      "display_name": "Python 3"
    },
    "language_info": {
      "name": "python"
    }
  },
  "cells": [
    {
      "cell_type": "markdown",
      "metadata": {
        "id": "view-in-github",
        "colab_type": "text"
      },
      "source": [
        "<a href=\"https://colab.research.google.com/github/veshtt/ETE-phyton/blob/main/atividade%20cloves.ipynb\" target=\"_parent\"><img src=\"https://colab.research.google.com/assets/colab-badge.svg\" alt=\"Open In Colab\"/></a>"
      ]
    },
    {
      "cell_type": "code",
      "execution_count": 5,
      "metadata": {
        "colab": {
          "base_uri": "https://localhost:8080/"
        },
        "id": "lJpLqU0tIVkU",
        "outputId": "4be0b8af-9c4f-4023-a6ac-b682602f08d3"
      },
      "outputs": [
        {
          "output_type": "stream",
          "name": "stdout",
          "text": [
            "Nome: Paulo, Idade: 29, Endereço: Recife, Funcão:animador de festa, Gênero: Masculino, Cachê: 350.\n",
            "Nome: Maria, Idade: 25, Endereço: paulista, Funcão:Pintor(a), Gênero: Feminino, Cachê: 500.\n"
          ]
        }
      ],
      "source": [
        "class Pessoa:\n",
        "    def __init__(self, nome, idade, endereco, funcao, genero, cache):\n",
        "        self.nome = nome\n",
        "        self.idade = idade\n",
        "        self.endereco = endereco\n",
        "        self.funcao = funcao\n",
        "        self.genero = genero\n",
        "        self.cache = cache\n",
        "\n",
        "    def apresentar(self):\n",
        "        return f\"Nome: {self.nome}, Idade: {self.idade}, Endereço: {self.endereco}, Funcão:{self.funcao}, Gênero: {self.genero}, Cachê de: {self.cache}.\"\n",
        "\n",
        "class Cadastro:\n",
        "    def __init__(self):\n",
        "        self.pessoas = []\n",
        "\n",
        "    def adicionar_pessoa(self, pessoa):\n",
        "        self.pessoas.append(pessoa)\n",
        "\n",
        "    def listar_pessoas(self):\n",
        "        for pessoa in self.pessoas:\n",
        "            print(pessoa.apresentar())\n",
        "\n",
        "cadastro = Cadastro()\n",
        "\n",
        "pessoa1 = Pessoa(\"Paulo\", 29, \"Recife\", \"animador de festa\", \"Masculino\", 350)\n",
        "pessoa2 = Pessoa(\"Maria\", 25, \"paulista\", \"Pintor(a)\", \"Feminino\", 500)\n",
        "\n",
        "cadastro.adicionar_pessoa(pessoa1)\n",
        "cadastro.adicionar_pessoa(pessoa2)\n",
        "\n",
        "# Listando as pessoas no cadastro\n",
        "cadastro.listar_pessoas()"
      ]
    },
    {
      "cell_type": "code",
      "source": [
        "class tags:\n",
        "    def __init__(self, tags1, tags2):\n",
        "        self.tags1 = tags1\n",
        "        self.tags2 = tags2\n",
        "\n",
        "# Exemplo de uso\n",
        "tags1 = ['Artistas presenciais: , Musicos, Dançarinos, Grafiteiros, fotografos']\n",
        "tags2 = ['Vendas Online: , Pinturas, Ilustrações, Livros, Esculturas']\n",
        "\n",
        "tags = tags(tags1, tags2)\n",
        "\n",
        "# Acesso às listas através do objeto\n",
        "print(\"Tags:\", tags.tags1)\n",
        "print(\"tags:\", tags.tags2)"
      ],
      "metadata": {
        "colab": {
          "base_uri": "https://localhost:8080/"
        },
        "id": "n1y6-niSSWOn",
        "outputId": "132e0da9-3422-4486-ccf3-532ef68cef08"
      },
      "execution_count": 23,
      "outputs": [
        {
          "output_type": "stream",
          "name": "stdout",
          "text": [
            "Tags: ['Artistas presenciais: , Musicos, Dançarinos, Grafiteiros, fotografos']\n",
            "tags: ['Vendas Online: , Pinturas, Ilustrações, Livros, Esculturas']\n"
          ]
        }
      ]
    },
    {
      "cell_type": "code",
      "source": [
        "class cache:\n",
        "    def __init__(self, cache1, cahe2):\n",
        "        self.cache1 = cache1\n",
        "        self.cache2 = cache2\n",
        "        self.por1 = por1\n",
        "        self.por1 = por2\n",
        "        self.total1 = total1\n",
        "        self.total2 = total2\n",
        "\n",
        "\n",
        "\n",
        "por1 = 7\n",
        "por2 = 13\n",
        "cache1 = 300\n",
        "cache2 = 500\n",
        "total1 = (por1 / cache1) * 100\n",
        "total2 = (por2 / cache2) * 100\n",
        "print(\"cachê do artista é: \", cache1, \"esse valor vai pro site: \", total1, \"são 7%\")\n",
        "print(\"o valor da arte é:  \", cache2, \"esse valor vai pro site: \", total2, \"são 13%\")\n",
        "\n"
      ],
      "metadata": {
        "colab": {
          "base_uri": "https://localhost:8080/"
        },
        "id": "-RVZZeSJT0NV",
        "outputId": "abe9a542-b6f9-47fc-b3ae-f75de0cfcebe"
      },
      "execution_count": 34,
      "outputs": [
        {
          "output_type": "stream",
          "name": "stdout",
          "text": [
            "cachê do artista é:  300 esse valor vai pro site:  2.3333333333333335 são 7%\n",
            "o valor da arte é:   500 esse valor vai pro site:  2.6 são 13%\n"
          ]
        }
      ]
    },
    {
      "cell_type": "code",
      "source": [
        "class Pessoa:\n",
        "    def __init__(self, nome,  endereco, busca, cache):\n",
        "        self.nome = nome\n",
        "        self.endereco = endereco\n",
        "        self.busca = busca\n",
        "        self.cache = cache\n",
        "\n",
        "    def apresentar(self):\n",
        "        return f\"Nome: {self.nome}, Endereço: {self.endereco}, Busca qual artista? {self.busca}, Cachê de: {self.cache}.\"\n",
        "\n",
        "class Cadastro:\n",
        "    def __init__(self):\n",
        "        self.pessoas = []\n",
        "\n",
        "    def adicionar_pessoa(self, pessoa):\n",
        "        self.pessoas.append(pessoa)\n",
        "\n",
        "    def listar_pessoas(self):\n",
        "        for pessoa in self.pessoas:\n",
        "            print(pessoa.apresentar())\n",
        "\n",
        "cadastro = Cadastro()\n",
        "\n",
        "pessoa1 = Pessoa(\"Mania Kids\", \"Av. Norte, 443\", \"animador de festa\",  350)\n",
        "pessoa2 = Pessoa(\"mirabilandia\", \"Av. Prof. Andrade Bezerra, 1285\", \"Pintor(a)\", 500)\n",
        "\n",
        "cadastro.adicionar_pessoa(pessoa1)\n",
        "cadastro.adicionar_pessoa(pessoa2)\n",
        "\n",
        "# Listando as pessoas no cadastro\n",
        "cadastro.listar_pessoas()"
      ],
      "metadata": {
        "colab": {
          "base_uri": "https://localhost:8080/"
        },
        "id": "061YbDxiX7np",
        "outputId": "3d03b47f-6030-4597-8062-5ab6c41572b8"
      },
      "execution_count": 36,
      "outputs": [
        {
          "output_type": "stream",
          "name": "stdout",
          "text": [
            "Nome: Mania Kids, Endereço: Av. Norte, 443, Busca qual artista? animador de festa, Cachê de: 350.\n",
            "Nome: mirabilandia, Endereço: Av. Prof. Andrade Bezerra, 1285, Busca qual artista? Pintor(a), Cachê de: 500.\n"
          ]
        }
      ]
    },
    {
      "cell_type": "code",
      "source": [
        "class Livro:\n",
        "    def __init__(self, titulo, autor, ano, valor):\n",
        "        self.titulo = titulo\n",
        "        self.autor = autor\n",
        "        self.ano = ano\n",
        "        self.valor = valor\n",
        "\n",
        "    def detalhes(self):\n",
        "        return f\"Titulo do livro: {self.titulo} - Autor do livro: {self.autor} = Ano do livro: ({self.ano}) - valor a pagar: {self.valor}\"\n",
        "\n",
        "livro1 = Livro(\"Dom Casmurro\", \"Machado de Assis\", 1899, 150)\n",
        "livro2 = Livro(\"Harry Potter e a Pedra Filosofal\", \"J.K. Rowling\", 1997, 300)\n",
        "\n",
        "print(livro1.detalhes())\n",
        "print(livro2.detalhes())"
      ],
      "metadata": {
        "colab": {
          "base_uri": "https://localhost:8080/"
        },
        "id": "fhW4Y17-ZE6g",
        "outputId": "5a47f0a9-3841-4548-88b8-875e86974345"
      },
      "execution_count": 39,
      "outputs": [
        {
          "output_type": "stream",
          "name": "stdout",
          "text": [
            "Titulo do livro: Dom Casmurro - Autor do livro: Machado de Assis = Ano do livro: (1899) - valor a pagar: 150\n",
            "Titulo do livro: Harry Potter e a Pedra Filosofal - Autor do livro: J.K. Rowling = Ano do livro: (1997) - valor a pagar: 300\n"
          ]
        }
      ]
    }
  ]
}